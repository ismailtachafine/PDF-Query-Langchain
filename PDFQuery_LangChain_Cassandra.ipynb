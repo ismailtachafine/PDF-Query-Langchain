{
  "cells": [
    {
      "cell_type": "markdown",
      "metadata": {
        "id": "wrgOhk8U4Rpl"
      },
      "source": [
        "<h1 style=\"padding: 25px 25px; background-color: lightblue; font-family: Sans-Serif; color:black; text-align: center\">\n",
        "Querying PDF With LangChain and Cassandra</h1>"
      ]
    },
    {
      "cell_type": "markdown",
      "metadata": {
        "id": "XQQN-L2J4Rpq"
      },
      "source": [
        "### Import packages :"
      ]
    },
    {
      "cell_type": "code",
      "execution_count": null,
      "metadata": {
        "id": "V4qBIihE4Rpq"
      },
      "outputs": [],
      "source": [
        "# LangChain components to use\n",
        "from langchain.vectorstores.cassandra import Cassandra\n",
        "from langchain.indexes.vectorstore import VectorStoreIndexWrapper\n",
        "from langchain.llms import OpenAI\n",
        "from langchain.embeddings import OpenAIEmbeddings\n",
        "\n",
        "# Support for dataset retrieval with Hugging Face\n",
        "from datasets import load_dataset\n",
        "\n",
        "# With CassIO, the engine powering the Astra DB integration in LangChain, you will also initialize the DB connection:\n",
        "import cassio\n",
        "\n",
        "# Read PDF\n",
        "from PyPDF2 import PdfReader"
      ]
    },
    {
      "cell_type": "markdown",
      "metadata": {
        "id": "Q1cmD5EF4Rpr"
      },
      "source": [
        "#### Provide your secrets:\n",
        "\n",
        "Replace the following with your Astra DB connection details and your OpenAI API key:"
      ]
    },
    {
      "cell_type": "code",
      "execution_count": 2,
      "metadata": {
        "id": "eqpM6I854Rpr"
      },
      "outputs": [],
      "source": [
        "import os\n",
        "\n",
        "OPENAI_API_KEY = os.getenv(\"OPENAI_API_KEY\")\n",
        "ASTRA_DB_APPLICATION_TOKEN = os.getenv(\"ASTRA_DB_APPLICATION_TOKEN\")\n",
        "ASTRA_DB_ID = os.getenv(\"ASTRA_DB_ID\")"
      ]
    },
    {
      "cell_type": "markdown",
      "metadata": {
        "id": "5S0GgIQs4Rps"
      },
      "source": [
        "Provide the path of the PDF file:"
      ]
    },
    {
      "cell_type": "code",
      "execution_count": 3,
      "metadata": {
        "id": "waVKJW-n6jqJ"
      },
      "outputs": [],
      "source": [
        "pdfreader = PdfReader('The Importance of Paragraph Writing.pdf')"
      ]
    },
    {
      "cell_type": "markdown",
      "metadata": {},
      "source": [
        "Read text from pdf:"
      ]
    },
    {
      "cell_type": "code",
      "execution_count": 4,
      "metadata": {
        "id": "42BKuFRO6meP"
      },
      "outputs": [],
      "source": [
        "from typing_extensions import Concatenate\n",
        "raw_text = ''\n",
        "for i, page in enumerate(pdfreader.pages):\n",
        "    content = page.extract_text()\n",
        "    if content:\n",
        "        raw_text += content"
      ]
    },
    {
      "cell_type": "code",
      "execution_count": 5,
      "metadata": {
        "colab": {
          "base_uri": "https://localhost:8080/",
          "height": 192
        },
        "id": "vR41Iq-4ZHnG",
        "outputId": "861bc27a-fd4d-47f9-f722-8e365a6fd030"
      },
      "outputs": [
        {
          "data": {
            "text/plain": [
              "'See discussions, st ats, and author pr ofiles f or this public ation at : https://www .researchgate.ne t/public ation/343449753\\nThe Importance of Paragraph Writing: An Introduction\\nArticle \\xa0\\xa0 in\\xa0\\xa0HuS S Int ernational Journal of R esearch in Humanities and Social Scienc es · August 2020\\nCITATIONS\\n11READS\\n61,667\\n2 author s, including:\\nOmid W ali\\nNang arhar Univ ersity\\n9 PUBLICA TIONS \\xa0\\xa0\\xa011 CITATIONS \\xa0\\xa0\\xa0\\nSEE PROFILE\\nAll c ontent f ollo wing this p age was uplo aded b y Omid W ali on 05 A ugust 2020.\\nThe user has r equest ed enhanc ement of the do wnlo aded file.International Journal of Latest Research in Humanities and Social Science (IJLRHSS)  \\nVolume 03 - Issue 07, 2020  \\nwww.ijlrhss.com || PP. 44-50 \\n44 | Page                                                                                                                        www.ijlrhss.com   \\nThe Importance of Paragraph Writing:  An Introduction  \\n \\nOmid Wali  \\nPh.D. Research Scholar, Department of English, Aligarh Muslim University, UP, India  \\n \\nDr. Abdul Qayum Madani  \\nAssistant Professor, Department of Arabic Language and Literature, Nangarhar  University, Jalalabad, \\nAfghanistan  \\n \\nAbstract: Writing and putting an accurate word on a paper is quite an easy task , but writing a sentence is a bi t \\ndifficult. Writing a paragraph is the most difficult academic activity. It is much more required as compared to \\nany other activity in the writing  skill of any language . To know and organize a paragraph in a coherent, cohesive \\nand united way, it means that you know and have the command on the foundation in any pyramid of academic \\nwriting. Writing a simple  cover letter, an academic essay, thesis or dissertation is impossible in a case when you \\nas a writer do not have sound and practical knowledge on paragraph  writing . The length of paragraph depends \\non the writer. It is varied from a single sentence to a fu ll page. Starting with a few simple sentences on a paper is \\nnot enough. Instead, you need to make it sure that your  paragraph is based on goo d coherence, cohesion and \\nunity. This paper is an introductory attempt to present the art of paragraph writing for the language students of \\nNangarhar University after they are found to be weaker in writing than  other language skills.  \\nKeywords:  Paragraph, Writing, Nangarhar University, Characteristics.   \\n \\n1. Introduction  \\nWriting dates back thousands of years. People used to write on cave walls, stones and on various other \\nthings which were used instead of paper. About 3,500 years ago, the idea of alphabet came into practice. It is \\nalso worth mentioning that there was even the concept of communication in languages when ther e wasn’t the \\nidea of writing. Since writing is considered to be one of the productive ski lls of a language. Hence , different \\nlanguages use different systems of writing. At the meantime, different languages also use different  writing \\nstyles. For instance, t he English writing organization style is quite simple which has a beginning (introduction), \\na middle (body) and an end (conclusion) while the Japanese writing style is circular in which the writer doesn’t \\nwant to mention the topic to his/her readers. Inste ad, Japanese writers tend their readers to be imaginative \\nenough. Moreover, the Arabic writing style is repetitive, and this makes it more interesting for readers while the \\nsame repetition theory is boring if it is done in English writing. Therefore, there  is always emphasis on to avoid \\nrepetition . It is also important to note that one writing style isn’t better than another, just as one langua ge isn’ t \\nbetter than another. To be a successful writer in any language, you need to learn the writing style in add ition to \\nwords and grammar rules (Boardman, 2008; Boardman & Frydenberg, 2008).  \\nAfter observing the weakness of students’ English writing  skill existed  in the department s of foreign \\nlanguages of Nangarhar University particularly (English and Arabic), the r esearchers felt the need to write an \\nintroductory paper on paragraph writing, which will help the students acquire basic and essential knowledge of \\nparagraph writ ing, which they later can expand  it to essay and other types of academic writing. The paper co vers \\nimportant topics such as the organization, forma t and kinds of paragraph, the writing process and the \\ncharacteristics of writing. The paper finally presents a conclusion and a list of recommendations.  \\n \\n2. Paragraph as a Basic Organization  in Writing Skill  \\nParagraph by definition is a group of closely related sentences that develop one single idea. From the \\nmentioned definition, it is quite clear that only one topic is being discussed in a paragraph. The discussion of \\nmore than one topic is  not acceptable  under one paragraph. Let’s observe the below paragraph.  \\n“The assassination of Mahatma Gandhi shocked all Indians in every corner of India. Gandhi was a \\nsmall man, and he was vegetarian. He lived a very simple life. The minorities lost a man  who always stood up \\nfor them;  the poor lost the only person who was working towards real equality. Even his enemies felt a great \\nloss in his death because he never hated anyone, big or small ” (Champa & Sasikumar, 2010, pp.2 -3). \\nWhile reading the above par agraph carefully, you will find  out that two sentences do not form the \\nessential part of it. They are irrelevant. The topic sentence , which is the main idea of the above paragraph,  is: \\nGandhi’s assassination shocked everyone, but sentences no. 2 and 3 Gandhi was a small man, and he was \\nvegetarian. He lived a very simple life  are irrelevant sentences which have to be omitted.  \\n International Journal of Latest Research in Humanities and Social Science (IJLRHSS)  \\nVolume 03 - Issue 07, 2020  \\nwww.ijlrhss.com || PP. 44-50 \\n45 | Page                                                                                                                        www.ijlrhss.com  2.1. The organization of a Paragraph  \\nAs discussed  earlier  that the English writing organization style is quite simple , which has a be ginning, \\nmiddle  and an end. Moreover, the beginning should say that what the article is going to be about, the middle \\nshould talk about the topic of the article, and the end should say what the article was about. For the better \\nunderstanding, here is a diagram  of English style organization  (Boardman, 2008).  \\n \\n \\n \\n \\n \\n \\n \\n \\n \\n \\n \\n \\n \\n \\n \\n \\n \\n \\n \\n \\n \\n \\n \\n \\n  \\nIn addition , paragraph is  the basic unit of academic writing in English. Students who want to study in a \\ncollege or university need to learn how to write a paragraph because all other types o f academic writing  such as \\nessays, reports, compositions, and research  papers  are based on paragraph. Academic paragraph have a very \\nspecific organizational pattern. When you follow this pattern, your paragraph will be easy for your readers to \\nunderstand. This simple  pattern is based on topic sentence, supporting sentences and concluding sentence. Let’s \\ndiscuss each one of them briefl y (Boardman & Frydenberg, 2008 ).  \\n \\n2.2. The Topic Sentence  \\nA sentence that introduces the topic of a paragraph to the reader is called topic sentence. It is also \\nnotable that the main idea is also stated in the topic sentence. Topic sentence is composed of two parts , which \\nare topic and controlling idea. The topic  is a word or a phrase , which introduces what the entire paragraph is \\ngoing to be about and the controlling idea,  is the writer’s opinion about the topic. Controlling idea is further \\nrequired to limit a topic  (Boa rdman & Frydenberg, 2008 ). Let’s study the below example.  \\nExample: The University of Georgia is the first public chartered university in the state of Georgia , USA .  \\nIn the above topic sentence, The University of Georgia  is the topic and the ( is the first public chartered \\nuniversity in the state of Georgia , USA ) is controlling idea , which is also the write’s opinion about the topic \\nUniversity of Georgia.  \\n \\n2.2.1.  What is a good Topic Sentence?  \\nA good topic sentence must have the following three characteristics . Using one of these three features \\nwill enable writer to develop his or her paragraph. Otherwise, it is a fact, you as a writer  cannot write  more  on \\nfact (Boardman & Frydenberg, 2008) . \\n\\uf0b7 Use descriptive adjective before noun.  \\n\\uf0b7 Use several and many.  \\n\\uf0b7 Use numbers.  \\n \\n \\n  This is what I will write about.  \\nI am writing about it here.   \\nThis is what I wrote about it.  \\nFigure 1: English Writing Organization Style  \\nadopted from Boardman & Frydenberg, 2008  International Journal of Latest Research in Humanities and Social Science (IJLRHSS)  \\nVolume 03 - Issue 07, 2020  \\nwww.ijlrhss.com || PP. 44-50 \\n46 | Page                                                                                                                        www.ijlrhss.com  Examples:  \\na. Nangarhar University is a source for higher education.  \\nb. Nangarhar University is an outstanding source of higher education.  \\nc. Nangarhar University has several departments.  \\nd. Nangarhar University has over four hundred faculty members.  \\n In the above example (a), it is a fact, and it is ve ry difficult to write a paragraph on fact. But example \\n(b), which has a descriptive adjective “outstanding” before noun can motivate  the readers to read the rest of the \\nparagraph a nd most important is that it will enable writer to develop his /her writing. Examples (c& d) are also \\ngood  topic sentences because  several and number  are used .  \\n \\n2.3. The Body (Supporting Sentences)  \\nThe sentences that build up the body of your paragraph are called the supporting sentences. Supporting \\nsentences are used to support the topic sentence of your paragraph. It is supporting sentences by which you can \\nprovide logics and evidences through which you can convince your readers or at least convey your own message \\nto the audience. There are two types of supporting sentences which ar e major and minor supporting sentences. \\nMajor supporting sentences directly support the topic sentence in a paragraph while minor supporting sentences \\ndirectly support the major supporting sentences and indirectly support the topic sentence. Let’s observe the \\nbelow modal outli ne (O’Donnell & Judith, 1993 ).  \\n \\n \\n \\n \\n \\n \\n \\n \\n \\n \\n \\n \\n \\n \\n \\n \\n \\n \\n \\n \\n \\n \\n \\n \\n \\n \\n In the above  figure , the topic sentence is written right at the beginning. There are major supporting \\ndetails to directly support the topic sentence. Under each of the major supporting sentence, we can write other \\nminor supporting sentences. The number of minor suppor ting sentences depends on writer  how enough and best \\ns/he can elaborate the topic . There might be at least one minor supporting sentence or more.  \\n \\n2.4. The Concluding Sentence  \\nThe concluding sentence of a paragraph is generally needed in a stand -alone paragrap h. Usually a \\nconcluding sentence is the restatement of the topic sentence which is named as the restatement concluding \\nsentence. That is, it gives the same information as the topic sentence, but the information is expressed in a \\ndifferent way. Besides rest atement concluding sentence, there is another type  of concluding sentence  that is \\nsummary concluding sentence. Such type of concluding sentence summarizes all major supporting sentences \\nand presented as a concluding sentence. Concluding sentence usually st arts with a transition such as in short, all \\nin all, in conclusion, in summary. Not all concluding sentences require a transition. You as  writer decide if it is Topic sentence:  Life in a refugee camp is not easy.  \\nSupporting ideas:  Not enough food to eat  \\n\\uf0b7 ……………………  \\n\\uf0b7 ……………………  \\n\\uf0b7 ……………………  \\nScarce water for drinking or washing  \\n\\uf0b7 ……………………  \\n\\uf0b7 ……………………  \\nLimited space  \\n\\uf0b7 ……………………  \\n\\uf0b7 ……………………  \\nNo utilities (electricity, running water)  \\n\\uf0b7 ……………………  \\n\\uf0b7 ……………………  \\n \\nFigure 2: Identifying the Major and Minor Supporting Sentences  adopted \\nfrom O’Donnell & Judith , 1993, pp.7 -9) International Journal of Latest Research in Humanities and Social Science (IJLRHSS)  \\nVolume 03 - Issue 07, 2020  \\nwww.ijlrhss.com || PP. 44-50 \\n47 | Page                                                                                                                        www.ijlrhss.com  needed (Boar dman & Frydenberg, 2008 ). Let’s  read and observe the different parts of a paragraph  in the below \\nfigure.  \\n \\n \\n \\n \\n \\n \\n \\n \\n \\n \\n \\n \\n \\n \\n \\n \\n \\n \\n2.5. The Format of Paragraph  \\nIn English language, it is compulsory to know the format of paragraph. A paragraph which is based on \\ncorrect format is considered a great work of professionalism in writing  skills . There are certain numbers of rules \\nwhich have to be followed while writing a standard parag raph in the term of forma t (Boardman & Frydenberg, \\n2008 ). \\n1. Put your name and date in the upper right hand corner.  \\n2. Center the title above your paragraph.  \\n3. Indent the first sentence of your paragraph.  \\n4. Start each sentence with a capital letter.  \\n5. End each sentence with a period, a question mark, or an exclamation mark.  \\n6. Begin each sentence where the previous sentence ends.  \\n7. Write on every oth er line. This is called double -spacing.  \\n8. Put margins of about one inch on each side of the paper.  \\n \\n2.6. Kinds of Paragraph  \\nThere seems to be different kinds of paragraph, but here we are going to focus on three basic types of \\nparagraph , which are Narrative Par agraph, Descriptive Paragraph, and Expository Paragraph. Let’s discuss each \\none of them briefly (Ameri, 2008 ). \\n \\n2.6.1.  Narrative Paragraph  \\nTo tell a story in its simplest form is called narrative paragraph. This type of writing is mostly talking \\nabout the events  that happened in the past. It has the same organization as other paragraphs have (Topic \\nSentence, Supporting Sentences and Concluding Sentence). Writing any types of paragraph needs to know and \\nuse specific transitions. Here for narrative paragraph, we ha ve specific transitions by which we give \\nchronological order to the supporting sentences in the body of paragraph. These transitions are briefly stated \\nbelow. It is also notable that every transit ion has to f ollow a comma (Boardman, 2008 ). \\nTransitions of T ime Order:  First, at first, second, third, next, then, after that, finally.  \\n \\n2.6.2.  Descriptive Paragraph  \\nWhen you write a descriptive paragraph, you are trying to communicate picture or feeling in words. \\nYou might want to tell your reader how something looks, or how it sounds, smells, feels, or tastes. If you say \\nthat the new film actress is very beautiful, your audience’s next question will almost b e what does she look like?  \\n(Amiri, 2008 ). In addition, the purpose of descriptive paragraph is to paint a vivid p icture in reader’s mind. The \\nreader should be able to see the picture that you are describing in his or her mind.  \\n \\n2.6.3.  Preposition of Place in Descriptive Paragraph  \\nSince it is  you as writer’s  job to paint a vivid picture in readers’ mind, to do this, you ne ed to use space \\norder. In other words, you describe a person from top to bottom or from bottom to top. Once the direction you Nelson Mandela  \\n“My name is Nelson Mandela, and I have had an unusual life.  I have been both a prisoner and a president \\nin my country. I was born in 1918 in the small village of Qunu  in the Transkei, which is a large territory \\n(like a state) in South Africa. My father, Henry Mandela, was chief of our tribe, the Tembus. As a child, I \\ntook care of the family’s cattle and goats and fished in the Bashee River near our village. I decided t o \\nbecome a lawyer because this seemed to be the best way to help my people. After I became a lawyer, I \\nbecame the leader of a group of young Africans who wanted to change the system of discrimination in our \\ncountry. Because of my political activities, I wa s arrested and sent to prison. I spent twenty seven years in \\nprison. I spent most of those years in on Roggen Island, a cold, windy island in the Atlantic Ocean. The \\nworld didn’t forget about me while I was in prison, however. I have received important vis itors, awards, \\nand university degrees from all over the world. I also learned Afrikaans, which is the language of White \\nSouth Africans. Of course I also speak English and Xhosa, which is the Tembu Language. At least, I was \\nset free in 1990, and I became th e president of South Africa in 1994.  Now I will try to bring peace, \\ndemocracy, and prosperit y to all of my country’s people .” (Hogue, 1996, p.15 ). \\n \\nTopic Sentence  == Supporting Sentences  == Concluding Sentence  \\n Figure 3: Model Paragraph adopted from Hogue, 1996, p.15  International Journal of Latest Research in Humanities and Social Science (IJLRHSS)  \\nVolume 03 - Issue 07, 2020  \\nwww.ijlrhss.com || PP. 44-50 \\n48 | Page                                                                                                                        www.ijlrhss.com  started from one angle, it is not changeable in the middle. Preposition of  place plays a vital role in developing \\nthe space order in descriptive paragraph. Common prepositions of place are: above, around, behind, below, \\nbetween, in, in front of, next to, on, under  (Boardman, 2008 ). \\n \\n2.6.4.  Expository Paragraph  \\nIn this kind of paragraph, you as a writer explain something . There are different ways by which you \\ncan explain something;  one common way of this is by giving example s (i.e. for example, for instance and so on).  \\nAs space order is  important in descriptive paragraph, logical order is equally important in expository paragraph. \\nBeing a writer, you decide and give your own order to the major supporting sentences, because the logics are \\ndifferent  from  one person to  the other . Transitions that can help us in giving logical order  to ideas  are: first, first \\nof all, second, third, next, finally…. (Boardman, 2008 ).  \\n \\n2.7. Writing Processes  \\nAnything which is based on a clear process is easy and understandable. The same is paragraph. The \\nwriting process which is discussed here is not only used for paragraph, but it is also usable for any length of \\nwriting such as essay… the process of writing is described and put forward in different forms, but the main \\nconcept is the same. Here we ar e going to discuss one of them (Boardman & Frydenberg, 2008 ). \\na. Understanding the Assignment  \\nb. Brainstorming  \\nc. Organiz ing Your Ideas  \\nd. Writing the First Draft  \\ne. Rewriting the First Draft  \\nf. Writing the Next or Final Draft  \\n \\n2.7.1.  Understanding  the Assignment  \\nIn this step of writing, it is required to answer some of the important questions  such as (what is the \\ntopic? why am I writing? where do I get the information? how long is the paper? when is due? how do I resent \\nit?) ( Boardman & Frydenberg, 2008 ). \\n \\n2.7.2.   Brainstorming  \\nTo brainstorm means to write down all the ideas. No matter if the ideas are good or bad, relevant or \\nirrelevant. In this step they are equal. There is another step in which we can evaluate ideas. Moreover, there are \\nthree different forms of brainstorming such as using a mind map, using c olumns, and free -writing (Boar dman & \\nFrydenberg, 2008 ). \\n \\n2.7.3.   Organizing Your Ideas  \\n In this stage of writing, it is important to make sure that:  \\n\\uf0b7 You write a topic sentence  \\n\\uf0b7 You eliminate irrelevant ideas  \\n\\uf0b7 You make an outline and add relevant ideas  \\n \\n2.7.4.  Writing the First Draft  \\n In this step of writing, yo u are ready to put your ideas in a good paragraph form. This draft is just for \\nyou. Don’t worry about grammar and punctuation because there is another step where you  can revise and edit \\nthis draft  (Boardman & Frydenberg, 2008 ). \\n \\n2.7.5.   Rewriting the First Draft  \\nIn this step, two t hings are very important that you  should consider , which a re revising and editing. \\nWhen you revise, you  should look for the unity, coherence, and cohesion of pa ragraph, in addition to this, you  \\nshould ensure that there are enough major a nd minor supp orting sentences. In editing, you  must pay attention to \\ngrammar, spelling, w ord forms and punctuation  (Boardman & Frydenberg, 2008 ). \\n \\n2.7.6.   Writing the Final Draft  \\n“This step of writing process is a clean version of your writing. Here you carried all the editing and \\nrevision out. Since this is the final version. Thus, it is important that a good paragraph format shou ld be used \\nand submitted” (Boardman & Frydenberg, 2008, p.40). \\n \\n International Journal of Latest Research in Humanities and Social Science (IJLRHSS)  \\nVolume 03 - Issue 07, 2020  \\nwww.ijlrhss.com || PP. 44-50 \\n49 | Page                                                                                                                        www.ijlrhss.com  2.8. Characteristics of Writing  \\nCoherence, cohesion and unity are conside red the characteristic features  of good writing. Thus, one \\nshould follow the mentioned characteristics to write in a more coherent, cohesive and united way. It will further \\nhelp the readers to follow the logical sequ ence of the written text (Boardman & Fry denberg, 2008 ).  \\n \\n2.8.1.   Coherence  \\nWhen all the supporting sentences are in good order, it means the paragraph is based on coherence. The \\nprinciples for ordering depend on the types of paragraph. As a first example, the coherence for descriptive \\nparagraph is based on space order. Prepositions of place (in, on, above, behind, beside, under, etc.) help us \\nimplement space order.  Second, the coherence for narrative paragraph is based on time order. Transitions \\nrelated to time help us bring coherence to narrative paragraph. As a final example, coherence for expository \\nparagraph is based on logical order, and t he transitions of example and logical order help us carry out coherence  \\nfor expository paragrap h (Boardman & Frydenberg, 2008 ). To know more on various transitions for coherence, \\nlook at the below chart:  \\n \\nTable 1: Transitions for Co herence adopted from Boardman  \\nTime Order  Logical \\nOrder  Example  Addition  Contrast  Result  Conclusion  \\nFirst First For example  Also  However  As a \\nconsequence  All in all  \\nAt first  First of all  For instance  In addition   In contrast  As a result  In conclusion  \\nSecond  Second  As a (first, \\nsecond, final) \\nexample  Moreover   Consequently  In short  \\nThird  Third   Furthermore   Therefore  In summary  \\nNext  Next      To sum up  \\nThen  Finally       \\nAfter that       \\nFinally       \\n \\n2.8.2.   Cohesion  \\n Another important characteristic of good paragraph is cohesion. When a paragraph has cohesion, all the \\nsupporting sentences connect to each other in their support of the topic sentence. The methods of connecting \\nsentences to each other are called cohesive devices. Four impo rtant cohesive devices a re connectors  (i.e. \\nhowever, etc) , definite article  (the) , personal pronouns  (i.e. he, him, his, etc) , and demonstrative pronouns  (i.e. \\nthis, those, etc)  (Boardman & Frydenberg, 2008, p. 23). \\n \\n2.8.3.   Unity  \\nThe last characteristic of good  paragraph  writing  is the unity. When all the supporting sentences are \\nrelated to the topic sentence, in this case the paragraph has unity. If a paragraph has a sentence , which is not \\nrelated to the topic sentence, it is irrelevant sentence and it has to be  omitte d (Boardman & Frydenberg, 2008 ). \\n \\n3. Conclusion  \\n In order to enhance English writing skills of students of Nangarhar University particularly the \\nDepartments of English and Arabic, an attempt was made to discuss paragraph that is considered the foundation \\nfor any other type of academic writing (Boardman &  Frydenberg, 2008). Once, the skill of paragraph writing is \\nmastered; then, it is quite easy to extend it into essay, etc. In this article, an attempt was  made to introduce \\nparagraph from various angles such as the definition, the parts by which a paragrap h is organized, the format of \\nparagraph, the basic kinds of paragraph, the writing process and the characteristics of good writin g, so this \\nprecise and concise piece of information  will help the students develop their paragraph writing skills sp ecifically \\nin English language .  \\n4. Recommendations  \\n1. Developing p aragraph writing  skill is highly significant to students of any major. Hence,  they \\nwill submit their school and college assignments in a standard way.  \\n2. To know and write a well -organized paragraph will help  students develop other forms of writing \\nsuch as essays, letters etc.  \\n \\n International Journal of Latest Research in Humanities and Social Science (IJLRHSS)  \\nVolume 03 - Issue 07, 2020  \\nwww.ijlrhss.com || PP. 44-50 \\n50 | Page                                                                                                                        www.ijlrhss.com  References  \\n[1]. Boardman, A. C. (2008). Writing to communicate 1  (3rd Ed.). Boston: Pearson Education, Inc.  \\n[2]. Boardman, A. C. & Frydenberg, J. (2008). Writing to communicate 2 (3rd Ed.). Boston: Pearson \\nEducation, Inc.  \\n[3]. Champa, T. & Sasikumar, J. (2010). Writing with a purpose (5th Ed.). New Delhi: Oxford \\nUniversity Press, New Dehli.  \\n[4]. O’Donnell D, Teresa. & Paiva, Judith L. (1993). Independent writing  (2nd Ed.) Boston, \\nMassachusetts: Heinle & Heinle Publishers.  \\n[5]. Hogue, A. (1996). First Steps in academic writing (1st Ed.) Addison -Wesley Publishing \\nCompany, Inc.  \\n[6]. Ameri, L. (2008). Writing letters for all (1st Ed.) Peshawar: Khawar Book Co.  \\n \\nAuthor Profile  \\nMr. Omid Wali  is Ph.D. Research Scholar at the Department of English, Aligarh Muslim University (AMU), \\nUP, India. His area of research is English Language Teaching (ELT) and Language Policy and Planning of \\nAfghanistan. He is Assistant Professor of English as a Foreign Language at Nangarhar University, Jalalabad, \\nAfghanistan besides being the proud Fulbright alumnus of the University of Georgia, Athens, USA where he \\ntaught Pashto Language in addition to studying Academic English Writing.  \\n \\nDr. Abdul Qayum Madani  is Assis tant Professor at the Department of Arabic Language and Literature of \\nNangarhar University, Jalalabad, Afgha nistan. His research interest revolves around Arabic literature and  \\ncomparative linguistics especially Arabic and the local languages of Afghanistan .  \\nView publication stats'"
            ]
          },
          "execution_count": 5,
          "metadata": {},
          "output_type": "execute_result"
        }
      ],
      "source": [
        "raw_text"
      ]
    },
    {
      "cell_type": "markdown",
      "metadata": {},
      "source": [
        "Initialize the connection to your database:"
      ]
    },
    {
      "cell_type": "code",
      "execution_count": 6,
      "metadata": {
        "colab": {
          "base_uri": "https://localhost:8080/"
        },
        "id": "zFBR5HnZSPmK",
        "outputId": "5b4bb3ea-6be3-4d7a-c535-88715fa67c13"
      },
      "outputs": [],
      "source": [
        "cassio.init(token=ASTRA_DB_APPLICATION_TOKEN, database_id=ASTRA_DB_ID)"
      ]
    },
    {
      "cell_type": "markdown",
      "metadata": {
        "id": "ex7NxZYb4Rps"
      },
      "source": [
        "Create the LangChain embedding and LLM objects for later usage:"
      ]
    },
    {
      "cell_type": "code",
      "execution_count": null,
      "metadata": {
        "id": "TavS0AK2SLrL"
      },
      "outputs": [],
      "source": [
        "llm = OpenAI(openai_api_key=OPENAI_API_KEY)\n",
        "embedding = OpenAIEmbeddings(openai_api_key=OPENAI_API_KEY)"
      ]
    },
    {
      "cell_type": "markdown",
      "metadata": {
        "id": "9HMMx5Pm4Rpt"
      },
      "source": [
        "Create your LangChain vector store backed by Astra DB:"
      ]
    },
    {
      "cell_type": "code",
      "execution_count": 8,
      "metadata": {
        "id": "bg9VAk4USQvU"
      },
      "outputs": [],
      "source": [
        "astra_vector_store = Cassandra(\n",
        "    embedding=embedding,\n",
        "    table_name=\"LangchainVectorStore\",\n",
        "    session=None,\n",
        "    keyspace=None,\n",
        ")"
      ]
    },
    {
      "cell_type": "code",
      "execution_count": 9,
      "metadata": {
        "id": "9FMAhKr77AVO"
      },
      "outputs": [],
      "source": [
        "from langchain.text_splitter import CharacterTextSplitter\n",
        "# We need to split the text using Character Text Split such that it sshould not increse token size\n",
        "text_splitter = CharacterTextSplitter(\n",
        "    separator = \"\\n\",\n",
        "    chunk_size = 800,\n",
        "    chunk_overlap  = 200,\n",
        "    length_function = len,\n",
        ")\n",
        "texts = text_splitter.split_text(raw_text)"
      ]
    },
    {
      "cell_type": "code",
      "execution_count": 10,
      "metadata": {
        "colab": {
          "base_uri": "https://localhost:8080/"
        },
        "id": "k8BDHAyT7Gjr",
        "outputId": "7833f6ac-bd97-40d6-fcbe-94a81b4dd6ac"
      },
      "outputs": [
        {
          "data": {
            "text/plain": [
              "['See discussions, st ats, and author pr ofiles f or this public ation at : https://www .researchgate.ne t/public ation/343449753\\nThe Importance of Paragraph Writing: An Introduction\\nArticle \\xa0\\xa0 in\\xa0\\xa0HuS S Int ernational Journal of R esearch in Humanities and Social Scienc es · August 2020\\nCITATIONS\\n11READS\\n61,667\\n2 author s, including:\\nOmid W ali\\nNang arhar Univ ersity\\n9 PUBLICA TIONS \\xa0\\xa0\\xa011 CITATIONS \\xa0\\xa0\\xa0\\nSEE PROFILE\\nAll c ontent f ollo wing this p age was uplo aded b y Omid W ali on 05 A ugust 2020.\\nThe user has r equest ed enhanc ement of the do wnlo aded file.International Journal of Latest Research in Humanities and Social Science (IJLRHSS)  \\nVolume 03 - Issue 07, 2020  \\nwww.ijlrhss.com || PP. 44-50',\n",
              " 'Volume 03 - Issue 07, 2020  \\nwww.ijlrhss.com || PP. 44-50 \\n44 | Page                                                                                                                        www.ijlrhss.com   \\nThe Importance of Paragraph Writing:  An Introduction  \\n \\nOmid Wali  \\nPh.D. Research Scholar, Department of English, Aligarh Muslim University, UP, India  \\n \\nDr. Abdul Qayum Madani  \\nAssistant Professor, Department of Arabic Language and Literature, Nangarhar  University, Jalalabad, \\nAfghanistan  \\n \\nAbstract: Writing and putting an accurate word on a paper is quite an easy task , but writing a sentence is a bi t \\ndifficult. Writing a paragraph is the most difficult academic activity. It is much more required as compared to',\n",
              " 'difficult. Writing a paragraph is the most difficult academic activity. It is much more required as compared to \\nany other activity in the writing  skill of any language . To know and organize a paragraph in a coherent, cohesive \\nand united way, it means that you know and have the command on the foundation in any pyramid of academic \\nwriting. Writing a simple  cover letter, an academic essay, thesis or dissertation is impossible in a case when you \\nas a writer do not have sound and practical knowledge on paragraph  writing . The length of paragraph depends \\non the writer. It is varied from a single sentence to a fu ll page. Starting with a few simple sentences on a paper is \\nnot enough. Instead, you need to make it sure that your  paragraph is based on goo d coherence, cohesion and',\n",
              " 'not enough. Instead, you need to make it sure that your  paragraph is based on goo d coherence, cohesion and \\nunity. This paper is an introductory attempt to present the art of paragraph writing for the language students of \\nNangarhar University after they are found to be weaker in writing than  other language skills.  \\nKeywords:  Paragraph, Writing, Nangarhar University, Characteristics.   \\n \\n1. Introduction  \\nWriting dates back thousands of years. People used to write on cave walls, stones and on various other \\nthings which were used instead of paper. About 3,500 years ago, the idea of alphabet came into practice. It is \\nalso worth mentioning that there was even the concept of communication in languages when ther e wasn’t the',\n",
              " 'also worth mentioning that there was even the concept of communication in languages when ther e wasn’t the \\nidea of writing. Since writing is considered to be one of the productive ski lls of a language. Hence , different \\nlanguages use different systems of writing. At the meantime, different languages also use different  writing \\nstyles. For instance, t he English writing organization style is quite simple which has a beginning (introduction), \\na middle (body) and an end (conclusion) while the Japanese writing style is circular in which the writer doesn’t \\nwant to mention the topic to his/her readers. Inste ad, Japanese writers tend their readers to be imaginative \\nenough. Moreover, the Arabic writing style is repetitive, and this makes it more interesting for readers while the',\n",
              " 'enough. Moreover, the Arabic writing style is repetitive, and this makes it more interesting for readers while the \\nsame repetition theory is boring if it is done in English writing. Therefore, there  is always emphasis on to avoid \\nrepetition . It is also important to note that one writing style isn’t better than another, just as one langua ge isn’ t \\nbetter than another. To be a successful writer in any language, you need to learn the writing style in add ition to \\nwords and grammar rules (Boardman, 2008; Boardman & Frydenberg, 2008).  \\nAfter observing the weakness of students’ English writing  skill existed  in the department s of foreign \\nlanguages of Nangarhar University particularly (English and Arabic), the r esearchers felt the need to write an',\n",
              " 'languages of Nangarhar University particularly (English and Arabic), the r esearchers felt the need to write an \\nintroductory paper on paragraph writing, which will help the students acquire basic and essential knowledge of \\nparagraph writ ing, which they later can expand  it to essay and other types of academic writing. The paper co vers \\nimportant topics such as the organization, forma t and kinds of paragraph, the writing process and the \\ncharacteristics of writing. The paper finally presents a conclusion and a list of recommendations.  \\n \\n2. Paragraph as a Basic Organization  in Writing Skill  \\nParagraph by definition is a group of closely related sentences that develop one single idea. From the',\n",
              " '2. Paragraph as a Basic Organization  in Writing Skill  \\nParagraph by definition is a group of closely related sentences that develop one single idea. From the \\nmentioned definition, it is quite clear that only one topic is being discussed in a paragraph. The discussion of \\nmore than one topic is  not acceptable  under one paragraph. Let’s observe the below paragraph.  \\n“The assassination of Mahatma Gandhi shocked all Indians in every corner of India. Gandhi was a \\nsmall man, and he was vegetarian. He lived a very simple life. The minorities lost a man  who always stood up \\nfor them;  the poor lost the only person who was working towards real equality. Even his enemies felt a great \\nloss in his death because he never hated anyone, big or small ” (Champa & Sasikumar, 2010, pp.2 -3).',\n",
              " 'loss in his death because he never hated anyone, big or small ” (Champa & Sasikumar, 2010, pp.2 -3). \\nWhile reading the above par agraph carefully, you will find  out that two sentences do not form the \\nessential part of it. They are irrelevant. The topic sentence , which is the main idea of the above paragraph,  is: \\nGandhi’s assassination shocked everyone, but sentences no. 2 and 3 Gandhi was a small man, and he was \\nvegetarian. He lived a very simple life  are irrelevant sentences which have to be omitted.  \\n International Journal of Latest Research in Humanities and Social Science (IJLRHSS)  \\nVolume 03 - Issue 07, 2020  \\nwww.ijlrhss.com || PP. 44-50',\n",
              " 'International Journal of Latest Research in Humanities and Social Science (IJLRHSS)  \\nVolume 03 - Issue 07, 2020  \\nwww.ijlrhss.com || PP. 44-50 \\n45 | Page                                                                                                                        www.ijlrhss.com  2.1. The organization of a Paragraph  \\nAs discussed  earlier  that the English writing organization style is quite simple , which has a be ginning, \\nmiddle  and an end. Moreover, the beginning should say that what the article is going to be about, the middle \\nshould talk about the topic of the article, and the end should say what the article was about. For the better \\nunderstanding, here is a diagram  of English style organization  (Boardman, 2008).',\n",
              " 'understanding, here is a diagram  of English style organization  (Boardman, 2008).  \\n \\n \\n \\n \\n \\n \\n \\n \\n \\n \\n \\n \\n \\n \\n \\n \\n \\n \\n \\n \\n \\n \\n \\n \\n  \\nIn addition , paragraph is  the basic unit of academic writing in English. Students who want to study in a \\ncollege or university need to learn how to write a paragraph because all other types o f academic writing  such as \\nessays, reports, compositions, and research  papers  are based on paragraph. Academic paragraph have a very \\nspecific organizational pattern. When you follow this pattern, your paragraph will be easy for your readers to \\nunderstand. This simple  pattern is based on topic sentence, supporting sentences and concluding sentence. Let’s \\ndiscuss each one of them briefl y (Boardman & Frydenberg, 2008 ).  \\n \\n2.2. The Topic Sentence',\n",
              " 'discuss each one of them briefl y (Boardman & Frydenberg, 2008 ).  \\n \\n2.2. The Topic Sentence  \\nA sentence that introduces the topic of a paragraph to the reader is called topic sentence. It is also \\nnotable that the main idea is also stated in the topic sentence. Topic sentence is composed of two parts , which \\nare topic and controlling idea. The topic  is a word or a phrase , which introduces what the entire paragraph is \\ngoing to be about and the controlling idea,  is the writer’s opinion about the topic. Controlling idea is further \\nrequired to limit a topic  (Boa rdman & Frydenberg, 2008 ). Let’s study the below example.  \\nExample: The University of Georgia is the first public chartered university in the state of Georgia , USA .',\n",
              " 'Example: The University of Georgia is the first public chartered university in the state of Georgia , USA .  \\nIn the above topic sentence, The University of Georgia  is the topic and the ( is the first public chartered \\nuniversity in the state of Georgia , USA ) is controlling idea , which is also the write’s opinion about the topic \\nUniversity of Georgia.  \\n \\n2.2.1.  What is a good Topic Sentence?  \\nA good topic sentence must have the following three characteristics . Using one of these three features \\nwill enable writer to develop his or her paragraph. Otherwise, it is a fact, you as a writer  cannot write  more  on \\nfact (Boardman & Frydenberg, 2008) . \\n\\uf0b7 Use descriptive adjective before noun.  \\n\\uf0b7 Use several and many.  \\n\\uf0b7 Use numbers.  \\n \\n \\n  This is what I will write about.',\n",
              " 'fact (Boardman & Frydenberg, 2008) . \\n\\uf0b7 Use descriptive adjective before noun.  \\n\\uf0b7 Use several and many.  \\n\\uf0b7 Use numbers.  \\n \\n \\n  This is what I will write about.  \\nI am writing about it here.   \\nThis is what I wrote about it.  \\nFigure 1: English Writing Organization Style  \\nadopted from Boardman & Frydenberg, 2008  International Journal of Latest Research in Humanities and Social Science (IJLRHSS)  \\nVolume 03 - Issue 07, 2020  \\nwww.ijlrhss.com || PP. 44-50 \\n46 | Page                                                                                                                        www.ijlrhss.com  Examples:  \\na. Nangarhar University is a source for higher education.  \\nb. Nangarhar University is an outstanding source of higher education.',\n",
              " 'a. Nangarhar University is a source for higher education.  \\nb. Nangarhar University is an outstanding source of higher education.  \\nc. Nangarhar University has several departments.  \\nd. Nangarhar University has over four hundred faculty members.  \\n In the above example (a), it is a fact, and it is ve ry difficult to write a paragraph on fact. But example \\n(b), which has a descriptive adjective “outstanding” before noun can motivate  the readers to read the rest of the \\nparagraph a nd most important is that it will enable writer to develop his /her writing. Examples (c& d) are also \\ngood  topic sentences because  several and number  are used .  \\n \\n2.3. The Body (Supporting Sentences)  \\nThe sentences that build up the body of your paragraph are called the supporting sentences. Supporting',\n",
              " '2.3. The Body (Supporting Sentences)  \\nThe sentences that build up the body of your paragraph are called the supporting sentences. Supporting \\nsentences are used to support the topic sentence of your paragraph. It is supporting sentences by which you can \\nprovide logics and evidences through which you can convince your readers or at least convey your own message \\nto the audience. There are two types of supporting sentences which ar e major and minor supporting sentences. \\nMajor supporting sentences directly support the topic sentence in a paragraph while minor supporting sentences \\ndirectly support the major supporting sentences and indirectly support the topic sentence. Let’s observe the \\nbelow modal outli ne (O’Donnell & Judith, 1993 ).',\n",
              " 'below modal outli ne (O’Donnell & Judith, 1993 ).  \\n \\n \\n \\n \\n \\n \\n \\n \\n \\n \\n \\n \\n \\n \\n \\n \\n \\n \\n \\n \\n \\n \\n \\n \\n \\n \\n In the above  figure , the topic sentence is written right at the beginning. There are major supporting \\ndetails to directly support the topic sentence. Under each of the major supporting sentence, we can write other \\nminor supporting sentences. The number of minor suppor ting sentences depends on writer  how enough and best \\ns/he can elaborate the topic . There might be at least one minor supporting sentence or more.  \\n \\n2.4. The Concluding Sentence  \\nThe concluding sentence of a paragraph is generally needed in a stand -alone paragrap h. Usually a \\nconcluding sentence is the restatement of the topic sentence which is named as the restatement concluding',\n",
              " 'concluding sentence is the restatement of the topic sentence which is named as the restatement concluding \\nsentence. That is, it gives the same information as the topic sentence, but the information is expressed in a \\ndifferent way. Besides rest atement concluding sentence, there is another type  of concluding sentence  that is \\nsummary concluding sentence. Such type of concluding sentence summarizes all major supporting sentences \\nand presented as a concluding sentence. Concluding sentence usually st arts with a transition such as in short, all \\nin all, in conclusion, in summary. Not all concluding sentences require a transition. You as  writer decide if it is Topic sentence:  Life in a refugee camp is not easy.  \\nSupporting ideas:  Not enough food to eat  \\n\\uf0b7 ……………………  \\n\\uf0b7 ……………………',\n",
              " 'Supporting ideas:  Not enough food to eat  \\n\\uf0b7 ……………………  \\n\\uf0b7 ……………………  \\n\\uf0b7 ……………………  \\nScarce water for drinking or washing  \\n\\uf0b7 ……………………  \\n\\uf0b7 ……………………  \\nLimited space  \\n\\uf0b7 ……………………  \\n\\uf0b7 ……………………  \\nNo utilities (electricity, running water)  \\n\\uf0b7 ……………………  \\n\\uf0b7 ……………………  \\n \\nFigure 2: Identifying the Major and Minor Supporting Sentences  adopted \\nfrom O’Donnell & Judith , 1993, pp.7 -9) International Journal of Latest Research in Humanities and Social Science (IJLRHSS)  \\nVolume 03 - Issue 07, 2020  \\nwww.ijlrhss.com || PP. 44-50 \\n47 | Page                                                                                                                        www.ijlrhss.com  needed (Boar dman & Frydenberg, 2008 ). Let’s  read and observe the different parts of a paragraph  in the below \\nfigure.',\n",
              " 'figure.  \\n \\n \\n \\n \\n \\n \\n \\n \\n \\n \\n \\n \\n \\n \\n \\n \\n \\n \\n2.5. The Format of Paragraph  \\nIn English language, it is compulsory to know the format of paragraph. A paragraph which is based on \\ncorrect format is considered a great work of professionalism in writing  skills . There are certain numbers of rules \\nwhich have to be followed while writing a standard parag raph in the term of forma t (Boardman & Frydenberg, \\n2008 ). \\n1. Put your name and date in the upper right hand corner.  \\n2. Center the title above your paragraph.  \\n3. Indent the first sentence of your paragraph.  \\n4. Start each sentence with a capital letter.  \\n5. End each sentence with a period, a question mark, or an exclamation mark.  \\n6. Begin each sentence where the previous sentence ends.',\n",
              " '4. Start each sentence with a capital letter.  \\n5. End each sentence with a period, a question mark, or an exclamation mark.  \\n6. Begin each sentence where the previous sentence ends.  \\n7. Write on every oth er line. This is called double -spacing.  \\n8. Put margins of about one inch on each side of the paper.  \\n \\n2.6. Kinds of Paragraph  \\nThere seems to be different kinds of paragraph, but here we are going to focus on three basic types of \\nparagraph , which are Narrative Par agraph, Descriptive Paragraph, and Expository Paragraph. Let’s discuss each \\none of them briefly (Ameri, 2008 ). \\n \\n2.6.1.  Narrative Paragraph  \\nTo tell a story in its simplest form is called narrative paragraph. This type of writing is mostly talking',\n",
              " 'one of them briefly (Ameri, 2008 ). \\n \\n2.6.1.  Narrative Paragraph  \\nTo tell a story in its simplest form is called narrative paragraph. This type of writing is mostly talking \\nabout the events  that happened in the past. It has the same organization as other paragraphs have (Topic \\nSentence, Supporting Sentences and Concluding Sentence). Writing any types of paragraph needs to know and \\nuse specific transitions. Here for narrative paragraph, we ha ve specific transitions by which we give \\nchronological order to the supporting sentences in the body of paragraph. These transitions are briefly stated \\nbelow. It is also notable that every transit ion has to f ollow a comma (Boardman, 2008 ). \\nTransitions of T ime Order:  First, at first, second, third, next, then, after that, finally.',\n",
              " 'below. It is also notable that every transit ion has to f ollow a comma (Boardman, 2008 ). \\nTransitions of T ime Order:  First, at first, second, third, next, then, after that, finally.  \\n \\n2.6.2.  Descriptive Paragraph  \\nWhen you write a descriptive paragraph, you are trying to communicate picture or feeling in words. \\nYou might want to tell your reader how something looks, or how it sounds, smells, feels, or tastes. If you say \\nthat the new film actress is very beautiful, your audience’s next question will almost b e what does she look like?  \\n(Amiri, 2008 ). In addition, the purpose of descriptive paragraph is to paint a vivid p icture in reader’s mind. The \\nreader should be able to see the picture that you are describing in his or her mind.',\n",
              " 'reader should be able to see the picture that you are describing in his or her mind.  \\n \\n2.6.3.  Preposition of Place in Descriptive Paragraph  \\nSince it is  you as writer’s  job to paint a vivid picture in readers’ mind, to do this, you ne ed to use space \\norder. In other words, you describe a person from top to bottom or from bottom to top. Once the direction you Nelson Mandela  \\n“My name is Nelson Mandela, and I have had an unusual life.  I have been both a prisoner and a president \\nin my country. I was born in 1918 in the small village of Qunu  in the Transkei, which is a large territory \\n(like a state) in South Africa. My father, Henry Mandela, was chief of our tribe, the Tembus. As a child, I',\n",
              " '(like a state) in South Africa. My father, Henry Mandela, was chief of our tribe, the Tembus. As a child, I \\ntook care of the family’s cattle and goats and fished in the Bashee River near our village. I decided t o \\nbecome a lawyer because this seemed to be the best way to help my people. After I became a lawyer, I \\nbecame the leader of a group of young Africans who wanted to change the system of discrimination in our \\ncountry. Because of my political activities, I wa s arrested and sent to prison. I spent twenty seven years in \\nprison. I spent most of those years in on Roggen Island, a cold, windy island in the Atlantic Ocean. The \\nworld didn’t forget about me while I was in prison, however. I have received important vis itors, awards,',\n",
              " 'world didn’t forget about me while I was in prison, however. I have received important vis itors, awards, \\nand university degrees from all over the world. I also learned Afrikaans, which is the language of White \\nSouth Africans. Of course I also speak English and Xhosa, which is the Tembu Language. At least, I was \\nset free in 1990, and I became th e president of South Africa in 1994.  Now I will try to bring peace, \\ndemocracy, and prosperit y to all of my country’s people .” (Hogue, 1996, p.15 ). \\n \\nTopic Sentence  == Supporting Sentences  == Concluding Sentence  \\n Figure 3: Model Paragraph adopted from Hogue, 1996, p.15  International Journal of Latest Research in Humanities and Social Science (IJLRHSS)  \\nVolume 03 - Issue 07, 2020  \\nwww.ijlrhss.com || PP. 44-50',\n",
              " 'Volume 03 - Issue 07, 2020  \\nwww.ijlrhss.com || PP. 44-50 \\n48 | Page                                                                                                                        www.ijlrhss.com  started from one angle, it is not changeable in the middle. Preposition of  place plays a vital role in developing \\nthe space order in descriptive paragraph. Common prepositions of place are: above, around, behind, below, \\nbetween, in, in front of, next to, on, under  (Boardman, 2008 ). \\n \\n2.6.4.  Expository Paragraph  \\nIn this kind of paragraph, you as a writer explain something . There are different ways by which you \\ncan explain something;  one common way of this is by giving example s (i.e. for example, for instance and so on).',\n",
              " 'can explain something;  one common way of this is by giving example s (i.e. for example, for instance and so on).  \\nAs space order is  important in descriptive paragraph, logical order is equally important in expository paragraph. \\nBeing a writer, you decide and give your own order to the major supporting sentences, because the logics are \\ndifferent  from  one person to  the other . Transitions that can help us in giving logical order  to ideas  are: first, first \\nof all, second, third, next, finally…. (Boardman, 2008 ).  \\n \\n2.7. Writing Processes  \\nAnything which is based on a clear process is easy and understandable. The same is paragraph. The \\nwriting process which is discussed here is not only used for paragraph, but it is also usable for any length of',\n",
              " 'writing process which is discussed here is not only used for paragraph, but it is also usable for any length of \\nwriting such as essay… the process of writing is described and put forward in different forms, but the main \\nconcept is the same. Here we ar e going to discuss one of them (Boardman & Frydenberg, 2008 ). \\na. Understanding the Assignment  \\nb. Brainstorming  \\nc. Organiz ing Your Ideas  \\nd. Writing the First Draft  \\ne. Rewriting the First Draft  \\nf. Writing the Next or Final Draft  \\n \\n2.7.1.  Understanding  the Assignment  \\nIn this step of writing, it is required to answer some of the important questions  such as (what is the \\ntopic? why am I writing? where do I get the information? how long is the paper? when is due? how do I resent \\nit?) ( Boardman & Frydenberg, 2008 ).',\n",
              " 'topic? why am I writing? where do I get the information? how long is the paper? when is due? how do I resent \\nit?) ( Boardman & Frydenberg, 2008 ). \\n \\n2.7.2.   Brainstorming  \\nTo brainstorm means to write down all the ideas. No matter if the ideas are good or bad, relevant or \\nirrelevant. In this step they are equal. There is another step in which we can evaluate ideas. Moreover, there are \\nthree different forms of brainstorming such as using a mind map, using c olumns, and free -writing (Boar dman & \\nFrydenberg, 2008 ). \\n \\n2.7.3.   Organizing Your Ideas  \\n In this stage of writing, it is important to make sure that:  \\n\\uf0b7 You write a topic sentence  \\n\\uf0b7 You eliminate irrelevant ideas  \\n\\uf0b7 You make an outline and add relevant ideas  \\n \\n2.7.4.  Writing the First Draft',\n",
              " '\\uf0b7 You write a topic sentence  \\n\\uf0b7 You eliminate irrelevant ideas  \\n\\uf0b7 You make an outline and add relevant ideas  \\n \\n2.7.4.  Writing the First Draft  \\n In this step of writing, yo u are ready to put your ideas in a good paragraph form. This draft is just for \\nyou. Don’t worry about grammar and punctuation because there is another step where you  can revise and edit \\nthis draft  (Boardman & Frydenberg, 2008 ). \\n \\n2.7.5.   Rewriting the First Draft  \\nIn this step, two t hings are very important that you  should consider , which a re revising and editing. \\nWhen you revise, you  should look for the unity, coherence, and cohesion of pa ragraph, in addition to this, you  \\nshould ensure that there are enough major a nd minor supp orting sentences. In editing, you  must pay attention to',\n",
              " 'should ensure that there are enough major a nd minor supp orting sentences. In editing, you  must pay attention to \\ngrammar, spelling, w ord forms and punctuation  (Boardman & Frydenberg, 2008 ). \\n \\n2.7.6.   Writing the Final Draft  \\n“This step of writing process is a clean version of your writing. Here you carried all the editing and \\nrevision out. Since this is the final version. Thus, it is important that a good paragraph format shou ld be used \\nand submitted” (Boardman & Frydenberg, 2008, p.40). \\n \\n International Journal of Latest Research in Humanities and Social Science (IJLRHSS)  \\nVolume 03 - Issue 07, 2020  \\nwww.ijlrhss.com || PP. 44-50',\n",
              " 'and submitted” (Boardman & Frydenberg, 2008, p.40). \\n \\n International Journal of Latest Research in Humanities and Social Science (IJLRHSS)  \\nVolume 03 - Issue 07, 2020  \\nwww.ijlrhss.com || PP. 44-50 \\n49 | Page                                                                                                                        www.ijlrhss.com  2.8. Characteristics of Writing  \\nCoherence, cohesion and unity are conside red the characteristic features  of good writing. Thus, one \\nshould follow the mentioned characteristics to write in a more coherent, cohesive and united way. It will further \\nhelp the readers to follow the logical sequ ence of the written text (Boardman & Fry denberg, 2008 ).  \\n \\n2.8.1.   Coherence',\n",
              " 'help the readers to follow the logical sequ ence of the written text (Boardman & Fry denberg, 2008 ).  \\n \\n2.8.1.   Coherence  \\nWhen all the supporting sentences are in good order, it means the paragraph is based on coherence. The \\nprinciples for ordering depend on the types of paragraph. As a first example, the coherence for descriptive \\nparagraph is based on space order. Prepositions of place (in, on, above, behind, beside, under, etc.) help us \\nimplement space order.  Second, the coherence for narrative paragraph is based on time order. Transitions \\nrelated to time help us bring coherence to narrative paragraph. As a final example, coherence for expository \\nparagraph is based on logical order, and t he transitions of example and logical order help us carry out coherence',\n",
              " 'paragraph is based on logical order, and t he transitions of example and logical order help us carry out coherence  \\nfor expository paragrap h (Boardman & Frydenberg, 2008 ). To know more on various transitions for coherence, \\nlook at the below chart:  \\n \\nTable 1: Transitions for Co herence adopted from Boardman  \\nTime Order  Logical \\nOrder  Example  Addition  Contrast  Result  Conclusion  \\nFirst First For example  Also  However  As a \\nconsequence  All in all  \\nAt first  First of all  For instance  In addition   In contrast  As a result  In conclusion  \\nSecond  Second  As a (first, \\nsecond, final) \\nexample  Moreover   Consequently  In short  \\nThird  Third   Furthermore   Therefore  In summary  \\nNext  Next      To sum up  \\nThen  Finally       \\nAfter that       \\nFinally',\n",
              " 'second, final) \\nexample  Moreover   Consequently  In short  \\nThird  Third   Furthermore   Therefore  In summary  \\nNext  Next      To sum up  \\nThen  Finally       \\nAfter that       \\nFinally       \\n \\n2.8.2.   Cohesion  \\n Another important characteristic of good paragraph is cohesion. When a paragraph has cohesion, all the \\nsupporting sentences connect to each other in their support of the topic sentence. The methods of connecting \\nsentences to each other are called cohesive devices. Four impo rtant cohesive devices a re connectors  (i.e. \\nhowever, etc) , definite article  (the) , personal pronouns  (i.e. he, him, his, etc) , and demonstrative pronouns  (i.e. \\nthis, those, etc)  (Boardman & Frydenberg, 2008, p. 23). \\n \\n2.8.3.   Unity',\n",
              " 'however, etc) , definite article  (the) , personal pronouns  (i.e. he, him, his, etc) , and demonstrative pronouns  (i.e. \\nthis, those, etc)  (Boardman & Frydenberg, 2008, p. 23). \\n \\n2.8.3.   Unity  \\nThe last characteristic of good  paragraph  writing  is the unity. When all the supporting sentences are \\nrelated to the topic sentence, in this case the paragraph has unity. If a paragraph has a sentence , which is not \\nrelated to the topic sentence, it is irrelevant sentence and it has to be  omitte d (Boardman & Frydenberg, 2008 ). \\n \\n3. Conclusion  \\n In order to enhance English writing skills of students of Nangarhar University particularly the \\nDepartments of English and Arabic, an attempt was made to discuss paragraph that is considered the foundation',\n",
              " 'Departments of English and Arabic, an attempt was made to discuss paragraph that is considered the foundation \\nfor any other type of academic writing (Boardman &  Frydenberg, 2008). Once, the skill of paragraph writing is \\nmastered; then, it is quite easy to extend it into essay, etc. In this article, an attempt was  made to introduce \\nparagraph from various angles such as the definition, the parts by which a paragrap h is organized, the format of \\nparagraph, the basic kinds of paragraph, the writing process and the characteristics of good writin g, so this \\nprecise and concise piece of information  will help the students develop their paragraph writing skills sp ecifically \\nin English language .  \\n4. Recommendations',\n",
              " 'precise and concise piece of information  will help the students develop their paragraph writing skills sp ecifically \\nin English language .  \\n4. Recommendations  \\n1. Developing p aragraph writing  skill is highly significant to students of any major. Hence,  they \\nwill submit their school and college assignments in a standard way.  \\n2. To know and write a well -organized paragraph will help  students develop other forms of writing \\nsuch as essays, letters etc.  \\n \\n International Journal of Latest Research in Humanities and Social Science (IJLRHSS)  \\nVolume 03 - Issue 07, 2020  \\nwww.ijlrhss.com || PP. 44-50 \\n50 | Page                                                                                                                        www.ijlrhss.com  References',\n",
              " 'www.ijlrhss.com || PP. 44-50 \\n50 | Page                                                                                                                        www.ijlrhss.com  References  \\n[1]. Boardman, A. C. (2008). Writing to communicate 1  (3rd Ed.). Boston: Pearson Education, Inc.  \\n[2]. Boardman, A. C. & Frydenberg, J. (2008). Writing to communicate 2 (3rd Ed.). Boston: Pearson \\nEducation, Inc.  \\n[3]. Champa, T. & Sasikumar, J. (2010). Writing with a purpose (5th Ed.). New Delhi: Oxford \\nUniversity Press, New Dehli.  \\n[4]. O’Donnell D, Teresa. & Paiva, Judith L. (1993). Independent writing  (2nd Ed.) Boston, \\nMassachusetts: Heinle & Heinle Publishers.  \\n[5]. Hogue, A. (1996). First Steps in academic writing (1st Ed.) Addison -Wesley Publishing \\nCompany, Inc.',\n",
              " 'Massachusetts: Heinle & Heinle Publishers.  \\n[5]. Hogue, A. (1996). First Steps in academic writing (1st Ed.) Addison -Wesley Publishing \\nCompany, Inc.  \\n[6]. Ameri, L. (2008). Writing letters for all (1st Ed.) Peshawar: Khawar Book Co.  \\n \\nAuthor Profile  \\nMr. Omid Wali  is Ph.D. Research Scholar at the Department of English, Aligarh Muslim University (AMU), \\nUP, India. His area of research is English Language Teaching (ELT) and Language Policy and Planning of \\nAfghanistan. He is Assistant Professor of English as a Foreign Language at Nangarhar University, Jalalabad, \\nAfghanistan besides being the proud Fulbright alumnus of the University of Georgia, Athens, USA where he \\ntaught Pashto Language in addition to studying Academic English Writing.',\n",
              " 'Afghanistan besides being the proud Fulbright alumnus of the University of Georgia, Athens, USA where he \\ntaught Pashto Language in addition to studying Academic English Writing.  \\n \\nDr. Abdul Qayum Madani  is Assis tant Professor at the Department of Arabic Language and Literature of \\nNangarhar University, Jalalabad, Afgha nistan. His research interest revolves around Arabic literature and  \\ncomparative linguistics especially Arabic and the local languages of Afghanistan .  \\nView publication stats']"
            ]
          },
          "execution_count": 10,
          "metadata": {},
          "output_type": "execute_result"
        }
      ],
      "source": [
        "texts[:50]"
      ]
    },
    {
      "cell_type": "markdown",
      "metadata": {
        "id": "V1WK54-74Rpt"
      },
      "source": [
        "### Load the dataset into the vector store\n",
        "\n"
      ]
    },
    {
      "cell_type": "code",
      "execution_count": 11,
      "metadata": {
        "colab": {
          "base_uri": "https://localhost:8080/"
        },
        "id": "GX5BECsdSUUM",
        "outputId": "cdff3467-8af3-45cd-f750-f3174bc521fb"
      },
      "outputs": [
        {
          "name": "stdout",
          "output_type": "stream",
          "text": [
            "Inserted 42 headlines.\n"
          ]
        }
      ],
      "source": [
        "astra_vector_store.add_texts(texts[:50])\n",
        "\n",
        "print(\"Inserted %i headlines.\" % len(texts[:50]))\n",
        "\n",
        "astra_vector_index = VectorStoreIndexWrapper(vectorstore=astra_vector_store)"
      ]
    },
    {
      "cell_type": "markdown",
      "metadata": {
        "id": "oLJp8yPF4Rpt"
      },
      "source": [
        "### Run the Q&A cycle\n",
        "\n",
        "Simply run the cells and ask a question -- or `quit` to stop. (you can also stop execution with the \"▪\" button on the top toolbar)\n",
        "\n",
        "Here are some suggested questions:\n",
        "- How to write a good paragraph?\n",
        "- What are the kinds of paragraphs?"
      ]
    },
    {
      "cell_type": "code",
      "execution_count": 12,
      "metadata": {
        "colab": {
          "base_uri": "https://localhost:8080/"
        },
        "id": "MbJugrh7SX3C",
        "outputId": "10e8f954-a113-47a2-a84c-615a9f6e5dc6"
      },
      "outputs": [
        {
          "name": "stdout",
          "output_type": "stream",
          "text": [
            "\n",
            "QUESTION: \"How to write a good topic sentence?\"\n",
            "ANSWER: \"A good topic sentence should have descriptive adjectives before the noun, use words like \"several\" and \"many\", or include numbers. These features can help the writer develop their paragraph and provide enough information for the reader.\"\n",
            "\n",
            "FIRST DOCUMENTS BY RELEVANCE:\n",
            "    [0.9371] \"Example: The University of Georgia is the first public chartered university in the s ...\"\n",
            "    [0.9326] \"discuss each one of them briefl y (Boardman & Frydenberg, 2008 ).  \n",
            " \n",
            "2.2. The Topic ...\"\n",
            "    [0.9296] \" You write a topic sentence  \n",
            " You eliminate irrelevant ideas  \n",
            " You make an outl ...\"\n",
            "    [0.9228] \"understanding, here is a diagram  of English style organization  (Boardman, 2008).   ...\"\n",
            "\n",
            "QUESTION: \"How to write atention-grabbing sentences?\"\n",
            "ANSWER: \"To write attention-grabbing sentences, start by using descriptive adjectives before nouns. You can also use words like \"several\" or \"many\" to add interest, or incorporate numbers into your sentences. Additionally, try to make your sentences flow by starting each new sentence where the previous one ends. Don't forget to proofread for proper grammar and punctuation as well.\"\n",
            "\n",
            "FIRST DOCUMENTS BY RELEVANCE:\n",
            "    [0.9155] \" You write a topic sentence  \n",
            " You eliminate irrelevant ideas  \n",
            " You make an outl ...\"\n",
            "    [0.9154] \"4. Start each sentence with a capital letter.  \n",
            "5. End each sentence with a period,  ...\"\n",
            "    [0.9139] \"Example: The University of Georgia is the first public chartered university in the s ...\"\n",
            "    [0.9130] \"discuss each one of them briefl y (Boardman & Frydenberg, 2008 ).  \n",
            " \n",
            "2.2. The Topic ...\"\n",
            "\n",
            "QUESTION: \"How to organize a paragraph?\"\n",
            "ANSWER: \"The English writing organization style is quite simple, with a beginning, middle, and an end. The beginning should introduce the topic of the paragraph, the middle should discuss the topic, and the end should summarize what was discussed. A diagram of the English style organization is often used to help understand this format. Additionally, it is important to follow a specific format for paragraphs, including rules such as including your name and date, centering the title, indenting the first sentence, starting each sentence with a capital letter, and ending each sentence with a punctuation mark. It is also important to follow a specific organizational pattern, which includes a topic sentence, supporting sentences, and a concluding sentence. It is important to only discuss one topic per paragraph, as discussing multiple topics can be confusing for readers.\"\n",
            "\n",
            "FIRST DOCUMENTS BY RELEVANCE:\n",
            "    [0.9369] \"International Journal of Latest Research in Humanities and Social Science (IJLRHSS)  ...\"\n",
            "    [0.9330] \"figure.  \n",
            " \n",
            " \n",
            " \n",
            " \n",
            " \n",
            " \n",
            " \n",
            " \n",
            " \n",
            " \n",
            " \n",
            " \n",
            " \n",
            " \n",
            " \n",
            " \n",
            " \n",
            " \n",
            "2.5. The Format of Paragraph  \n",
            "In Engl ...\"\n",
            "    [0.9309] \"understanding, here is a diagram  of English style organization  (Boardman, 2008).   ...\"\n",
            "    [0.9301] \"2. Paragraph as a Basic Organization  in Writing Skill  \n",
            "Paragraph by definition is  ...\"\n"
          ]
        }
      ],
      "source": [
        "first_question = True\n",
        "while True:\n",
        "    if first_question:\n",
        "        query_text = input(\"\\nEnter your question (or type 'quit' to exit): \").strip()\n",
        "    else:\n",
        "        query_text = input(\"\\nWhat's your next question (or type 'quit' to exit): \").strip()\n",
        "\n",
        "    if query_text.lower() == \"quit\":\n",
        "        break\n",
        "\n",
        "    if query_text == \"\":\n",
        "        continue\n",
        "\n",
        "    first_question = False\n",
        "\n",
        "    print(\"\\nQUESTION: \\\"%s\\\"\" % query_text)\n",
        "    answer = astra_vector_index.query(query_text, llm=llm).strip()\n",
        "    print(\"ANSWER: \\\"%s\\\"\\n\" % answer)\n",
        "\n",
        "    print(\"FIRST DOCUMENTS BY RELEVANCE:\")\n",
        "    for doc, score in astra_vector_store.similarity_search_with_score(query_text, k=4):\n",
        "        print(\"    [%0.4f] \\\"%s ...\\\"\" % (score, doc.page_content[:84]))"
      ]
    }
  ],
  "metadata": {
    "colab": {
      "provenance": []
    },
    "kernelspec": {
      "display_name": "Python 3 (ipykernel)",
      "language": "python",
      "name": "python3"
    },
    "language_info": {
      "codemirror_mode": {
        "name": "ipython",
        "version": 3
      },
      "file_extension": ".py",
      "mimetype": "text/x-python",
      "name": "python",
      "nbconvert_exporter": "python",
      "pygments_lexer": "ipython3",
      "version": "3.10.11"
    }
  },
  "nbformat": 4,
  "nbformat_minor": 0
}
